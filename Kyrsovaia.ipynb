{
 "cells": [
  {
   "cell_type": "markdown",
   "metadata": {},
   "source": [
    "Программа для курсовой работы"
   ]
  },
  {
   "cell_type": "code",
   "execution_count": null,
   "metadata": {
    "notebookRunGroups": {
     "groupValue": "1"
    }
   },
   "outputs": [],
   "source": [
    "import csv\n",
    "from collections import defaultdict\n",
    "import openpyxl\n",
    "from openpyxl.utils import get_column_letter\n",
    "\n",
    "def read_data(file_name):\n",
    "    data = []\n",
    "    with open(file_name, newline='') as csvfile:\n",
    "        reader = csv.reader(csvfile, delimiter='|')\n",
    "        next(reader)  # Скип заголовок\n",
    "        for row in reader:\n",
    "            order_number, order_date, product_name, category, quantity, price_per_unit, total_cost = [item.strip() for item in row]\n",
    "            data.append({\n",
    "                'order_number': order_number,\n",
    "                'order_date': order_date,\n",
    "                'product_name': product_name,\n",
    "                'category': category,\n",
    "                'quantity': int(quantity),\n",
    "                'price_per_unit': float(price_per_unit),\n",
    "                'total_cost': float(total_cost)\n",
    "            })\n",
    "    return data\n",
    "\n",
    "def calculate_total_revenue(data):\n",
    "    total_revenue = sum(item['total_cost'] for item in data)\n",
    "    return total_revenue\n",
    "\n",
    "def find_popular_product(data):\n",
    "    products_sold = defaultdict(int)\n",
    "    for item in data:\n",
    "        products_sold[item['product_name']] += item['quantity']\n",
    "    most_sold_product = max(products_sold, key=products_sold.get)\n",
    "    return most_sold_product\n",
    "\n",
    "def find_most_revenue_product(data):\n",
    "    revenue_per_product = defaultdict(float)\n",
    "    for item in data:\n",
    "        revenue_per_product[item['product_name']] += item['total_cost']\n",
    "    most_revenue_product = max(revenue_per_product, key=revenue_per_product.get)\n",
    "    return most_revenue_product\n",
    "\n",
    "def print_sales_info(data):\n",
    "    total_revenue = calculate_total_revenue(data)\n",
    "    print(\"Общая выручка магазина:\", total_revenue)\n",
    "    print('-------------------------------------------------------------')\n",
    "\n",
    "    most_sold_product = find_popular_product(data)\n",
    "    print(\"Самая продаваемая животинка:\", most_sold_product)\n",
    "    print('-------------------------------------------------------------')\n",
    "\n",
    "    most_revenue_product = find_most_revenue_product(data)\n",
    "    print(\"Животинка, принесшая наибольшую выручку:\", most_revenue_product)\n",
    "    print('-------------------------------------------------------------')\n",
    "\n",
    "    print(\"Информация о продажах каждой животинки:\")\n",
    "    products_sold = defaultdict(int)\n",
    "    for item in data:\n",
    "        products_sold[item['product_name']] += item['quantity']\n",
    "    for product, quantity in products_sold.items():\n",
    "        revenue = sum(item['total_cost'] for item in data if item['product_name'] == product)\n",
    "        revenue_share = (revenue / total_revenue) * 100\n",
    "        print(f\"{product}: Продано {quantity} единиц, Выручка: {revenue}, Доля в общей выручке: {revenue_share:.2f}%\")\n",
    "\n",
    "def save_to_excel(data, filename='output.xlsx'):\n",
    "    wb = openpyxl.Workbook()\n",
    "    ws = wb.active\n",
    "    ws.title = \"Our_best_of_the_best_profit\"\n",
    "\n",
    "    headers = [\"Тески животных\", \"Сколько продали\", \"Выручка\", \"Доля в общей выручке в %\"]\n",
    "    ws.append(headers)\n",
    "\n",
    "    total_revenue = calculate_total_revenue(data)\n",
    "    products_sold = defaultdict(int)\n",
    "    for item in data:\n",
    "        products_sold[item['product_name']] += item['quantity']\n",
    "\n",
    "    for product, quantity in products_sold.items():\n",
    "        revenue = sum(item['total_cost'] for item in data if item['product_name'] == product)\n",
    "        revenue_share = (revenue / total_revenue) * 100\n",
    "        ws.append([product, quantity, revenue, f\"{revenue_share:.2f}\"])\n",
    "\n",
    "    for col in ws.columns:\n",
    "        max_length = 0\n",
    "        col_name = col[0].column_letter\n",
    "        for cell in col:\n",
    "            try:\n",
    "                if len(str(cell.value)) > max_length:\n",
    "                    max_length = len(cell.value)\n",
    "            except:\n",
    "                pass\n",
    "        adjusted_width = (max_length + 2)\n",
    "        ws.column_dimensions[col_name].width = adjusted_width\n",
    "\n",
    "    wb.save(filename)\n",
    "\n",
    "file_name = 'sales_data.csv'\n",
    "try:\n",
    "    data = read_data(file_name)\n",
    "    print_sales_info(data)\n",
    "    save_to_excel(data)\n",
    "    print(f\"Данные сохранены в файл {file_name}\")\n",
    "except FileNotFoundError:\n",
    "    print(\"Файл не найден\")\n",
    "except Exception as e:\n",
    "    print(\"Произошла ошибка:\", e)\n"
   ]
  },
  {
   "cell_type": "markdown",
   "metadata": {},
   "source": [
    "Содержание sales_data.csv"
   ]
  },
  {
   "cell_type": "markdown",
   "metadata": {},
   "source": [
    "Номер заказа | Дата заказа | Название товара | Категория товара | Количество продаж | Цена за единицу | Общая стоимость\n",
    "1 | 2024-05-01 | Кот Мурзик | Коты | 10 | 50.0 | 500.0\n",
    "2 | 2024-05-02 | Собака Рекс | Собаки | 5 | 100.0 | 500.0\n",
    "3 | 2024-05-03 | Свинья Пеппа | Свиньи | 8 | 70.0 | 560.0\n",
    "4 | 2024-05-04 | Кот Барсик | Коты | 12 | 45.0 | 540.0\n",
    "5 | 2024-05-05 | Собака Бобик | Собаки | 7 | 80.0 | 560.0\n",
    "6 | 2024-05-06 | Свинья Вася | Свиньи | 9 | 60.0 | 540.0"
   ]
  }
 ],
 "metadata": {
  "kernelspec": {
   "display_name": "Python 3",
   "language": "python",
   "name": "python3"
  },
  "language_info": {
   "codemirror_mode": {
    "name": "ipython",
    "version": 3
   },
   "file_extension": ".py",
   "mimetype": "text/x-python",
   "name": "python",
   "nbconvert_exporter": "python",
   "pygments_lexer": "ipython3",
   "version": "3.10.6"
  }
 },
 "nbformat": 4,
 "nbformat_minor": 2
}
